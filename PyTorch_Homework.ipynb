{
  "cells": [
    {
      "cell_type": "markdown",
      "metadata": {
        "id": "BBwC1Kdz77R5"
      },
      "source": [
        "# **Computational Learning and Deep Learning**"
      ]
    },
    {
      "cell_type": "markdown",
      "metadata": {
        "id": "qLhARmBO8HtF"
      },
      "source": [
        "## PyTorch homework"
      ]
    },
    {
      "cell_type": "code",
      "execution_count": 63,
      "metadata": {
        "id": "cm4j4Ch-8BPf"
      },
      "outputs": [],
      "source": [
        "import numpy as np\n",
        "\n",
        "import torch\n",
        "import torch.nn as nn\n",
        "import torch.nn.functional as F\n",
        "from torch.utils.data import Dataset\n",
        "from torchvision import datasets\n",
        "from torchvision import transforms\n",
        "\n",
        "import matplotlib.pyplot as plt\n",
        "%matplotlib inline"
      ]
    },
    {
      "cell_type": "markdown",
      "metadata": {
        "id": "I-_hkteM8KPH"
      },
      "source": [
        "The following code downloads the MNIST dataset and creates a PyTorch dataset with noisy images as inputs and original images as outputs."
      ]
    },
    {
      "cell_type": "code",
      "execution_count": 64,
      "metadata": {
        "id": "NK2FUovH8I8j"
      },
      "outputs": [],
      "source": [
        "mnist_train = datasets.MNIST(root=\"./data\", train=True, transform=transforms.ToTensor(), download=True)\n",
        "mnist_test = datasets.MNIST(root=\"./data\", train=False, transform=transforms.ToTensor())"
      ]
    },
    {
      "cell_type": "code",
      "execution_count": 65,
      "metadata": {
        "id": "eLRvCBHr8LaP"
      },
      "outputs": [],
      "source": [
        "class NoisyMNISTDataset(Dataset):\n",
        "    def __init__(self, mnist_dataset, noise_factor=0.5):\n",
        "        self.mnist_dataset = mnist_dataset\n",
        "        self.noise_factor = noise_factor\n",
        "\n",
        "    def __len__(self):\n",
        "        return len(self.mnist_dataset)\n",
        "\n",
        "    def __getitem__(self, idx):\n",
        "        # Get the original image and label from the MNIST dataset\n",
        "        original_image, label = self.mnist_dataset[idx]\n",
        "\n",
        "        # Add noise to the original image\n",
        "        noisy_image = self.add_noise(original_image)\n",
        "\n",
        "        return noisy_image, original_image\n",
        "\n",
        "    def add_noise(self, image):\n",
        "        # Convert the image to a NumPy array\n",
        "        image_np = image.numpy()\n",
        "\n",
        "        # Generate random noise with the same shape as the image\n",
        "        noise = np.random.normal(loc=0, scale=self.noise_factor, size=image_np.shape)\n",
        "\n",
        "        # Add the noise to the image\n",
        "        noisy_image = image_np + noise\n",
        "\n",
        "        # Clip the values to be between 0 and 1\n",
        "        noisy_image = np.clip(noisy_image, 0, 1)\n",
        "\n",
        "        # Convert the NumPy array back to a PyTorch tensor\n",
        "        noisy_image = torch.from_numpy(noisy_image).float()\n",
        "\n",
        "        return noisy_image"
      ]
    },
    {
      "cell_type": "code",
      "execution_count": 66,
      "metadata": {
        "id": "QyB0mOfK8MN3"
      },
      "outputs": [],
      "source": [
        "noisy_mnist_train = NoisyMNISTDataset(mnist_train, noise_factor=0.5)\n",
        "noisy_mnist_test = NoisyMNISTDataset(mnist_test, noise_factor=0.5)"
      ]
    },
    {
      "cell_type": "code",
      "execution_count": 67,
      "metadata": {
        "id": "s5EGxB9Q8NYQ"
      },
      "outputs": [],
      "source": [
        "batch_size = 16\n",
        "\n",
        "train_dataset = torch.utils.data.DataLoader(dataset=noisy_mnist_train, batch_size=batch_size, shuffle=True)\n",
        "test_dataset = torch.utils.data.DataLoader(dataset=noisy_mnist_test, batch_size=batch_size, shuffle=False)"
      ]
    },
    {
      "cell_type": "markdown",
      "metadata": {
        "id": "tJWiOOmK8QQN"
      },
      "source": [
        "#### Exercise:\n",
        "\n",
        "Define and train an autoencoder neural network using convolutional layers and without using fully connected layers. That is, use, at least once each, the following operations: convolution, max pooling, transposed convolutions.\n",
        "\n",
        "Once the model is trained show the input and ouput of the model for some images in the test set, along with the original image."
      ]
    },
    {
      "cell_type": "code",
      "execution_count": 68,
      "metadata": {},
      "outputs": [],
      "source": [
        "import torch.nn as nn\n",
        "import torch.nn.functional as F\n",
        "\n",
        "# define the NN architecture\n",
        "class Autoencoder(nn.Module):\n",
        "    def __init__(self):\n",
        "        super(Autoencoder, self).__init__()\n",
        "\n",
        "        ####################\n",
        "        ## encoder layers ##\n",
        "        ####################\n",
        "\n",
        "        # conv layer (depth from 1 --> 32), 3x3 kernels\n",
        "        self.conv1 = nn.Conv2d(1, 32, kernel_size = 3, padding = 1)  \n",
        "        # conv layer (depth from 32 --> 16), 3x3 kernels\n",
        "        self.conv2 = nn.Conv2d(32, 16, kernel_size = 3, padding=1)\n",
        "        # conv layer (depth from 16 --> 8), 3x3 kernels\n",
        "        self.conv3 = nn.Conv2d(16, 8, kernel_size = 3, padding=1)\n",
        "        # pooling layer to reduce x-y dims by two; kernel and stride of 2\n",
        "        self.pool = nn.MaxPool2d(kernel_size = 2, stride = 2)\n",
        "\n",
        "        ####################\n",
        "        ## decoder layers ##\n",
        "        ####################\n",
        "        \n",
        "        # transpose layer, a kernel of 2 and a stride of 2 will increase the spatial dims by 2\n",
        "        self.t_conv1 = nn.ConvTranspose2d(8, 8, 3, stride=2)  # kernel_size=3 to get to a 7x7 image output\n",
        "        # two more transpose layers with a kernel of 2\n",
        "        self.t_conv2 = nn.ConvTranspose2d(8, 16, 2, stride=2)\n",
        "        self.t_conv3 = nn.ConvTranspose2d(16, 32, 2, stride=2)\n",
        "        # one, final, normal conv layer to decrease the depth\n",
        "        self.conv_out = nn.Conv2d(32, 1, 3, padding=1)\n",
        "\n",
        "\n",
        "    def forward(self, x):\n",
        "        ## encode ##\n",
        "        # add hidden layers with relu activation function\n",
        "        # and maxpooling after\n",
        "        x = F.relu(self.conv1(x))\n",
        "        x = self.pool(x)\n",
        "        # add second hidden layer\n",
        "        x = F.relu(self.conv2(x))\n",
        "        x = self.pool(x)\n",
        "        # add third hidden layer\n",
        "        x = F.relu(self.conv3(x))\n",
        "        x = self.pool(x)  # compressed representation\n",
        "        \n",
        "        ## decode ##\n",
        "        # add transpose conv layers, with relu activation function\n",
        "        x = F.relu(self.t_conv1(x))\n",
        "        x = F.relu(self.t_conv2(x))\n",
        "        x = F.relu(self.t_conv3(x))\n",
        "        # transpose again, output should have a sigmoid applied\n",
        "        x = F.sigmoid(self.conv_out(x))\n",
        "                \n",
        "        return x\n",
        "\n",
        "# initialize the NN\n",
        "#model = Autoencoder()\n",
        "#print(model)"
      ]
    },
    {
      "cell_type": "code",
      "execution_count": 69,
      "metadata": {},
      "outputs": [],
      "source": [
        "autoencoder = Autoencoder()"
      ]
    },
    {
      "cell_type": "code",
      "execution_count": 70,
      "metadata": {},
      "outputs": [],
      "source": [
        "loss_function = nn.MSELoss()\n",
        "optimizer = torch.optim.Adam(autoencoder.parameters(), lr=0.001)"
      ]
    },
    {
      "cell_type": "code",
      "execution_count": 71,
      "metadata": {},
      "outputs": [],
      "source": [
        "def train(model, train_dataset, optimizer, epoch):\n",
        "    model.train()\n",
        "\n",
        "    for step, (data, target) in enumerate(train_dataset):\n",
        "        optimizer.zero_grad()\n",
        "        output = model(data)\n",
        "        loss = loss_function(output, target)\n",
        "        loss.backward()\n",
        "        optimizer.step()\n",
        "\n",
        "        if step % 1000 == 0:\n",
        "            print('Train Epoch: {} [{}/{} ({:.0f}%)]\\tLoss: {:.6f}'.format(\n",
        "                epoch, step * len(data), len(train_dataset.dataset),\n",
        "                100. * step / len(train_dataset), loss.item()))"
      ]
    },
    {
      "cell_type": "code",
      "execution_count": 76,
      "metadata": {},
      "outputs": [],
      "source": [
        "def test(model, test_dataset):\n",
        "    model.eval()\n",
        "\n",
        "    test_loss = 0\n",
        "    correct = 0\n",
        "    with torch.no_grad():\n",
        "        for data, target in test_dataset:\n",
        "            output = model(data)\n",
        "            test_loss += loss_function(output, target).item() * target.size(0)\n",
        "            pred = output.argmax(dim=1, keepdim=True)\n",
        "            correct += pred.eq(target.view_as(pred)).sum().item()\n",
        "\n",
        "    test_loss /= len(test_dataset.dataset)\n",
        "\n",
        "    print('\\nTest set: Average loss: {:.4f}\\n'.format(\n",
        "        test_loss, correct, len(test_dataset.dataset),\n",
        "        100. * correct / len(test_dataset.dataset)))"
      ]
    },
    {
      "cell_type": "code",
      "execution_count": 77,
      "metadata": {},
      "outputs": [
        {
          "name": "stdout",
          "output_type": "stream",
          "text": [
            "Train Epoch: 1 [0/60000 (0%)]\tLoss: 0.034661\n",
            "Train Epoch: 1 [16000/60000 (27%)]\tLoss: 0.029794\n",
            "Train Epoch: 1 [32000/60000 (53%)]\tLoss: 0.033763\n",
            "Train Epoch: 1 [48000/60000 (80%)]\tLoss: 0.030369\n",
            "\n",
            "Test set: Average loss: 0.0303\n",
            "\n",
            "Train Epoch: 2 [0/60000 (0%)]\tLoss: 0.033621\n",
            "Train Epoch: 2 [16000/60000 (27%)]\tLoss: 0.024244\n",
            "Train Epoch: 2 [32000/60000 (53%)]\tLoss: 0.028240\n",
            "Train Epoch: 2 [48000/60000 (80%)]\tLoss: 0.028760\n",
            "\n",
            "Test set: Average loss: 0.0296\n",
            "\n"
          ]
        }
      ],
      "source": [
        "num_epochs = 2\n",
        "\n",
        "for epoch in range(1, num_epochs + 1):\n",
        "    train(autoencoder, train_dataset, optimizer, epoch)\n",
        "    test(autoencoder, test_dataset)"
      ]
    },
    {
      "cell_type": "markdown",
      "metadata": {},
      "source": [
        "Plot images at random"
      ]
    },
    {
      "cell_type": "code",
      "execution_count": 78,
      "metadata": {},
      "outputs": [],
      "source": [
        "n_images = 3\n",
        "idx_images = np.random.randint(len(noisy_mnist_test), size=n_images)\n",
        "\n",
        "noisy_images = np.stack([noisy_mnist_test[i][0] for i in idx_images])\n",
        "images = np.stack([noisy_mnist_test[i][1] for i in idx_images])\n",
        "\n",
        "noisy_images = noisy_images.reshape(n_images, 1, 28, 28)\n",
        "\n",
        "noisy_images_tensor = torch.tensor(noisy_images, dtype=torch.float32)\n",
        "\n",
        "output = autoencoder(noisy_images_tensor)\n",
        "\n",
        "output = output.detach().numpy()"
      ]
    },
    {
      "cell_type": "code",
      "execution_count": 79,
      "metadata": {},
      "outputs": [
        {
          "data": {
            "image/png": "[encoded data removed]",
            "text/plain": [
              "<Figure size 1200x1200 with 9 Axes>"
            ]
          },
          "metadata": {},
          "output_type": "display_data"
        }
      ],
      "source": [
        "ncols = 3\n",
        "nrows = n_images\n",
        "\n",
        "fig, ax = plt.subplots(nrows=nrows, ncols=ncols, figsize=[4*ncols, 4*nrows])\n",
        "\n",
        "for i, n in enumerate(idx_images):\n",
        "    ax[i,0].imshow(noisy_images[i].reshape(28,28), cmap=\"gray\")\n",
        "    ax[i,0].set_title(\"Noisy image\")\n",
        "    ax[i,0].axis(\"off\")\n",
        "\n",
        "    ax[i,1].imshow(output[i].reshape(28,28), cmap=\"gray\")\n",
        "    ax[i,1].set_title(\"Predicted image\")\n",
        "    ax[i,1].axis(\"off\")\n",
        "\n",
        "    ax[i,2].imshow(images[i].reshape(28,28), cmap=\"gray\")\n",
        "    ax[i,2].set_title(\"Original image\")\n",
        "    ax[i,2].axis(\"off\")"
      ]
    },
    {
      "cell_type": "code",
      "execution_count": null,
      "metadata": {},
      "outputs": [],
      "source": []
    }
  ],
  "metadata": {
    "colab": {
      "provenance": []
    },
    "kernelspec": {
      "display_name": "Python 3",
      "name": "python3"
    },
    "language_info": {
      "codemirror_mode": {
        "name": "ipython",
        "version": 3
      },
      "file_extension": ".py",
      "mimetype": "text/x-python",
      "name": "python",
      "nbconvert_exporter": "python",
      "pygments_lexer": "ipython3",
      "version": "3.11.5"
    }
  },
  "nbformat": 4,
  "nbformat_minor": 0
}
